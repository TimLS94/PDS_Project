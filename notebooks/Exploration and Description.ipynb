{
 "cells": [
  {
   "cell_type": "code",
   "execution_count": null,
   "metadata": {},
   "outputs": [],
   "source": [
    "!pip install -e .."
   ]
  },
  {
   "cell_type": "code",
   "execution_count": null,
   "metadata": {},
   "outputs": [],
   "source": [
    "from nextbike import preprocessing\n",
    "import pandas as pd"
   ]
  },
  {
   "cell_type": "code",
   "execution_count": null,
   "metadata": {},
   "outputs": [],
   "source": [
    "# The dataset contains many duplicates\n",
    "df = preprocessing.load_df().drop_duplicates()"
   ]
  },
  {
   "cell_type": "code",
   "execution_count": null,
   "metadata": {},
   "outputs": [],
   "source": [
    "df.head(15)"
   ]
  },
  {
   "cell_type": "code",
   "execution_count": null,
   "metadata": {
    "scrolled": false
   },
   "outputs": [],
   "source": [
    "df.info(null_counts=True)"
   ]
  },
  {
   "cell_type": "code",
   "execution_count": null,
   "metadata": {
    "scrolled": true
   },
   "outputs": [],
   "source": [
    "df[df.isna().any(axis=1)]"
   ]
  },
  {
   "cell_type": "code",
   "execution_count": null,
   "metadata": {},
   "outputs": [],
   "source": [
    "# p_number is 0 for free-floating or unregistered stations and likely by mistake NaN\n",
    "df.fillna(0, inplace=True)"
   ]
  },
  {
   "cell_type": "code",
   "execution_count": null,
   "metadata": {},
   "outputs": [],
   "source": [
    "for col in ['p_spot', 'p_number', 'p_place_type', 'trip', 'b_bike_type', 'p_bike']:\n",
    "    print(df[col].value_counts())\n",
    "    print('---------------------------------')"
   ]
  },
  {
   "cell_type": "code",
   "execution_count": null,
   "metadata": {},
   "outputs": [],
   "source": [
    "# p_bike is always True if p_place_type is 12\n",
    "df[df['p_place_type'] == 12]\n",
    "df[(df['p_bike'] == True) & (df['p_place_type'] == 12)]"
   ]
  },
  {
   "cell_type": "code",
   "execution_count": null,
   "metadata": {
    "scrolled": false
   },
   "outputs": [],
   "source": [
    "# p_bike is always True if p_spot is False\n",
    "df[(df['p_bike'] == True) & (df['p_spot'] == False)]"
   ]
  },
  {
   "cell_type": "code",
   "execution_count": null,
   "metadata": {},
   "outputs": [],
   "source": [
    "# But p_bike can also be False if p_spot is False\n",
    "# --> What does p_bike mean in this case?\n",
    "df[(df['p_bike'] == False) & (df['p_spot'] == False)]"
   ]
  },
  {
   "cell_type": "code",
   "execution_count": null,
   "metadata": {},
   "outputs": [],
   "source": [
    "# Neither p_number nor p_uid is a unique identifier for p_name\n",
    "print(len(df['p_number'].drop_duplicates()))\n",
    "print(len(df['p_uid'].drop_duplicates()))\n",
    "print(len(df['p_name'].drop_duplicates()))"
   ]
  },
  {
   "cell_type": "markdown",
   "metadata": {},
   "source": [
    "* **The data set shows columns with prefixes p and b. What do you think do they represent? Also try to find good assumptions for the meanings of the columns**\n",
    "    * `p_`: Place related information\n",
    "    * `b_`: Bike related information\n",
    "    * `p_spot`: True if the place is a known station, False if free-floating\n",
    "    * `p_place_type`: 0 if the place is a known station, 12 if free-floating\n",
    "    * `datetime`: Date of the booking\n",
    "    * `b_number`: Unique identifier for a bike\n",
    "    * `trip`:\n",
    "        * 'first': Indicates the first booking of a day for a bike\n",
    "        * 'last': Indicates the last booking of a day for a bike\n",
    "        * 'start': Indicates the start of a trip\n",
    "        * 'end': Inidicates the end of a trip\n",
    "    * `p_uid`: ID of the location\n",
    "    * `p_bikes`: Available bikes at the place\n",
    "    * `p_lat`: Latitude of the location\n",
    "    * `b_bike_type`: Type of the bike (the meaning is not clear, probably different bike versions)\n",
    "    * `p_name`: Name of the location\n",
    "    * `p_number`: ???\n",
    "    * `p_lng`: Longitude of the location\n",
    "    * `p_bike`: True if free-floating, False if known station"
   ]
  },
  {
   "cell_type": "markdown",
   "metadata": {},
   "source": [
    "* **The trip column in your data set shows different values. Explain why there are not only two. Are examples with certain values for trip more informative for the analysis of mobility patterns than others?**\n",
    "    * The start/end trips are more informative in order to calculate the duration of a trip and to obtain the target data format"
   ]
  },
  {
   "cell_type": "code",
   "execution_count": null,
   "metadata": {
    "scrolled": false
   },
   "outputs": [],
   "source": [
    "# The official nextbike stations in mannheim -> https://mannheim.opendatasoft.com/explore/dataset/free_bike_status/information/\n",
    "stations = pd.read_csv('https://mannheim.opendatasoft.com/explore/dataset/free_bike_status/download/?format=csv&timezone=Europe/Berlin&lang=de&use_labels_for_header=true&csv_separator=%3B', delimiter=';')\n",
    "stations.head()"
   ]
  },
  {
   "cell_type": "code",
   "execution_count": null,
   "metadata": {},
   "outputs": [],
   "source": [
    "bike_numbers = set()\n",
    "for number_list in stations['Fahrradnummern']:\n",
    "    if isinstance(number_list, str):\n",
    "        for num in number_list.split(','):\n",
    "            bike_numbers.add(num)"
   ]
  },
  {
   "cell_type": "code",
   "execution_count": null,
   "metadata": {
    "scrolled": false
   },
   "outputs": [],
   "source": [
    "mannheim_df = df[(df['p_uid'].isin(stations['uid'])) | (df['b_number'].isin(bike_numbers))].reset_index()\n",
    "mannheim_df"
   ]
  },
  {
   "cell_type": "code",
   "execution_count": null,
   "metadata": {},
   "outputs": [],
   "source": [
    "# Same problem as before: start and end trip number does not match\n",
    "mannheim_df['trip'].value_counts()"
   ]
  },
  {
   "cell_type": "code",
   "execution_count": null,
   "metadata": {},
   "outputs": [],
   "source": [
    "       "
   ]
  },
  {
   "cell_type": "code",
   "execution_count": null,
   "metadata": {},
   "outputs": [],
   "source": []
  }
 ],
 "metadata": {
  "kernelspec": {
   "display_name": "Python 3",
   "language": "python",
   "name": "python3"
  },
  "language_info": {
   "codemirror_mode": {
    "name": "ipython",
    "version": 3
   },
   "file_extension": ".py",
   "mimetype": "text/x-python",
   "name": "python",
   "nbconvert_exporter": "python",
   "pygments_lexer": "ipython3",
   "version": "3.7.7"
  },
  "toc": {
   "base_numbering": 1,
   "nav_menu": {},
   "number_sections": true,
   "sideBar": true,
   "skip_h1_title": false,
   "title_cell": "Table of Contents",
   "title_sidebar": "Contents",
   "toc_cell": false,
   "toc_position": {},
   "toc_section_display": true,
   "toc_window_display": false
  }
 },
 "nbformat": 4,
 "nbformat_minor": 4
}
